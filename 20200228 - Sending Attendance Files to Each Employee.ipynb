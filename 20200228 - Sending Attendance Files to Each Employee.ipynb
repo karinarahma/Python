{
 "cells": [
  {
   "cell_type": "code",
   "execution_count": 14,
   "metadata": {},
   "outputs": [],
   "source": [
    "#Import all the data needed as data frames\n",
    "import pandas as pd\n",
    "\n",
    "\n",
    " #Containing all the attendance data for each employee in one file\n",
    "df_absensi = pd.read_excel(r'Absen 21 Maret - 20 April 2017.xlsx')\n",
    "\n",
    "#Containig all the information of employee including ID, Name, and Email\n",
    "df_email = pd.read_excel('dummy_contacts.xlsx') "
   ]
  },
  {
   "cell_type": "code",
   "execution_count": null,
   "metadata": {},
   "outputs": [],
   "source": []
  },
  {
   "cell_type": "markdown",
   "metadata": {},
   "source": [
    "## SPLIT FILE TO MANY FILES "
   ]
  },
  {
   "cell_type": "code",
   "execution_count": 15,
   "metadata": {},
   "outputs": [],
   "source": [
    "# Split the file of attendance into multiple files for each employee and save it as .xlsx format in one folder\n",
    "\n",
    "data = df_absensi[['ID','Fullname']].drop_duplicates(['ID','Fullname'])\n",
    "def f_absensi(emp_absensi):\n",
    "    for i, row in emp_absensi.iterrows():\n",
    "        name = sorted(list(set(df_absensi['Fullname'])))\n",
    "        filename = row['Fullname']\n",
    "        x = df_absensi[(df_absensi['ID'] == row['ID'])]\n",
    "        writer = pd.ExcelWriter('Lib/employee/' + filename + '.xlsx') #Write the file into Excel file\n",
    "        x.to_excel(writer, 'Sheet 1', index=False) \n",
    "        writer.save()\n",
    "f_absensi(data)"
   ]
  },
  {
   "cell_type": "markdown",
   "metadata": {},
   "source": [
    "# GET EMAIL"
   ]
  },
  {
   "cell_type": "code",
   "execution_count": 16,
   "metadata": {},
   "outputs": [],
   "source": [
    "# Generete a file out of df_absensi and df_email as SendEmail containing ID, name, Email and Filename of the attendace file for each employee.\n",
    "data = df_absensi[['ID','Fullname']].drop_duplicates(['ID', 'Fullname'])\n",
    "data_email = df_email[['ID','Email']].drop_duplicates(['ID', 'Email'])\n",
    "df_email_result = pd.DataFrame(columns = [\"ID\", \"Fullname\", \"Email\", \"Filename\"])\n",
    "\n",
    "for i, row in data.iterrows():\n",
    "    filename = row['Fullname']\n",
    "    Fullname = row['Fullname']\n",
    "    x = data_email[data_email['ID']==row['ID']]\n",
    "    if x.empty == False:\n",
    "        new_row = {'ID':x['ID'].values[0], 'Fullname':Fullname, 'Email':x['Email'].values[0], 'Filename':filename + '.xlsx'}\n",
    "        df_email_result = df_email_result.append(new_row, ignore_index=True)\n",
    "df_email_result\n",
    "writer = pd.ExcelWriter('Lib/SendEmail.xlsx')\n",
    "df_email_result.to_excel(writer, 'Sheet1', index=False)\n",
    "writer.save()"
   ]
  },
  {
   "cell_type": "markdown",
   "metadata": {},
   "source": [
    "for i, row in SendEmail.iterrows():\n",
    "    ids = SendEmail['ID']\n",
    "    receiver_address = SendEmail['Email']\n",
    "    filename = SendEmail['Filename']"
   ]
  },
  {
   "cell_type": "markdown",
   "metadata": {},
   "source": [
    "# OUTGOING MESSAGE"
   ]
  },
  {
   "cell_type": "markdown",
   "metadata": {},
   "source": [
    "\n",
    "https://myridia.com/dev_posts/view/1082"
   ]
  },
  {
   "cell_type": "code",
   "execution_count": 18,
   "metadata": {},
   "outputs": [
    {
     "name": "stdout",
     "output_type": "stream",
     "text": [
      "Password: ········\n",
      " Mail sent to A. Harwanto Wijaya\n",
      " Mail sent to Achmad Hadiono\n",
      " Mail sent to Agus Leosuteja\n",
      " Mail sent to Agus Sutomo\n",
      " Mail sent to Ahmad Taqyuddin\n",
      " Mail sent to Akhmad Zaki Al-Safi\n",
      " Mail sent to Aldino Ponto Priyatna\n",
      " Mail sent to Alfonso Ronaldo Villanueva\n",
      " Mail sent to Amelia Nugraha\n",
      " Mail sent to Andri L.Vicko\n",
      " Mail sent to Angela Kumala\n",
      " Mail sent to Ari Budiyanto\n",
      " Mail sent to Arselan Utama\n",
      " Mail sent to Barlian Humaira Kalasi\n",
      " Mail sent to Boby Lawijaya\n",
      " Mail sent to Cindy Iriany\n",
      " Mail sent to Dennis HP Sarumpaet\n",
      " Mail sent to Dery S. Gunanda\n",
      " Mail sent to Dhani Ramdhani\n",
      " Mail sent to Donny Priyo Darmawan\n",
      " Mail sent to Elita Kurniawan\n",
      " Mail sent to Engbi Setiawan\n",
      " Mail sent to Erwin Tirta\n",
      " Mail sent to Fachry Reza\n",
      " Mail sent to Fakhrul Ghozy\n",
      " Mail sent to Fatkhan Nugroho\n",
      " Mail sent to Ferry Seloria\n",
      " Mail sent to Fitri Regina Sari\n",
      " Mail sent to Haposan Hutapea\n",
      " Mail sent to HerinaTjhia\n",
      " Mail sent to Hokky Wijaya\n",
      " Mail sent to Imaddudin Ishak saifuddin\n",
      " Mail sent to Indra Cahaya Wardana\n",
      " Mail sent to Indra Kurnia Arifudin\n",
      " Mail sent to Jeffrey Tandra\n",
      " Mail sent to Jesie Basuki\n",
      " Mail sent to Juli Cha Tarido\n",
      " Mail sent to Justin Aulia Widyareza\n",
      " Mail sent to Liong Johan\n",
      " Mail sent to M.Afizurahman.G\n",
      " Mail sent to Magdalena Widjaja\n",
      " Mail sent to Micelyna Yulianti Sahiu\n",
      " Mail sent to Mohammad Ichsan Andrian\n",
      " Mail sent to Mohammad Sarifudin\n",
      " Mail sent to Mohd. Hadyan Wardhana\n",
      " Mail sent to Muhamad Taufik\n",
      " Mail sent to Muhamad Yayan\n",
      " Mail sent to Muhammad Irfan\n",
      " Mail sent to Naldi Attamimi\n",
      " Mail sent to Nanang Sugianto\n",
      " Mail sent to Nidya Elvandari\n",
      " Mail sent to Paulus Hendarwan Budiarta\n",
      " Mail sent to Pingkan Antonia\n",
      " Mail sent to Qurrata Akyuni\n",
      " Mail sent to Ramdani\n",
      " Mail sent to Rian Rosidiyana\n",
      " Mail sent to Ridho Yuriansyah Putra\n",
      " Mail sent to Riefqi Destiady Putra\n",
      " Mail sent to Riky Syaputra\n",
      " Mail sent to Riris Margaretha\n",
      " Mail sent to Roni Saputra\n",
      " Mail sent to Selvi Tiomerlina\n",
      " Mail sent to Sulistyawan\n",
      " Mail sent to Surya Hadi\n",
      " Mail sent to Sweta Sri Atmaja\n",
      " Mail sent to Thaha Estuputro\n",
      " Mail sent to Twentya Boru Gultom\n",
      " Mail sent to Umar Wahidin\n",
      " Mail sent to Ummil Chair\n",
      " Mail sent to Windra Fitri Rahman\n",
      " Mail sent to Yudhi Irawan\n"
     ]
    }
   ],
   "source": [
    "#Import packages\n",
    "import smtplib\n",
    "import getpass\n",
    "import os\n",
    "from email.mime.multipart import MIMEMultipart\n",
    "from email.mime.text import MIMEText\n",
    "from email.mime.base import MIMEBase\n",
    "from email import encoders\n",
    "\n",
    "#Send all the attendance file for each employee to each employee's email adresses.\n",
    "#The mail addresses and password\n",
    "sender_address = 'acctest.erika@gmail.com'\n",
    "sender_pass = getpass.getpass('Password: ')\n",
    "\n",
    "#Get list of contacts\n",
    "SendEmail = pd.read_excel('Lib/SendEmail - sama.xlsx')\n",
    "for i, row in SendEmail.iterrows():\n",
    "    ids = row['ID']\n",
    "    name = row['Fullname']\n",
    "    receiver_address = row['Email']\n",
    "    filename = row['Filename']\n",
    "    \n",
    "    #Setup the MIME\n",
    "    mail_content = 'Dear ' + name +',' + '\\n \\n Lengkapi data absensi terlampir' + ' \\n \\n Best Regards,' '\\n HR.'\n",
    "    message = MIMEMultipart()\n",
    "    message['From'] = sender_address\n",
    "    message['To'] = receiver_address\n",
    "    message['Subject'] = 'Attendance File'\n",
    "\n",
    "    message.attach(MIMEText(mail_content, 'plain'))\n",
    "\n",
    "    #Mail path\n",
    "    dir_path = 'Lib/employee/' + filename\n",
    "    attach_file = open(dir_path, 'rb')\n",
    "    \n",
    "    xls = MIMEBase('application', 'vnd.ms-excel')\n",
    "    xls.set_payload((attach_file).read())\n",
    "    encoders.encode_base64(xls)\n",
    "    xls.add_header('Content-Disposition', 'attach_file', filename= filename)\n",
    "    message.attach(xls)\n",
    "\n",
    "    #Create SMTP session for sending the mail\n",
    "    session = smtplib.SMTP('smtp.gmail.com', 587) \n",
    "    session.starttls() #enable security\n",
    "    session.login(sender_address, sender_pass)\n",
    "\n",
    "    text = message.as_string()\n",
    "\n",
    "    session.sendmail(sender_address, receiver_address, text)\n",
    "    session.quit()\n",
    "    print(' Mail sent to ' + name)"
   ]
  },
  {
   "cell_type": "markdown",
   "metadata": {},
   "source": [
    "# Merge Many Files into One Single File"
   ]
  },
  {
   "cell_type": "markdown",
   "metadata": {},
   "source": [
    "# Read Incoming Email"
   ]
  },
  {
   "cell_type": "code",
   "execution_count": null,
   "metadata": {},
   "outputs": [],
   "source": [
    "import email\n",
    "import getpass, imaplib\n",
    "import os\n",
    "import sys\n",
    "import time\n",
    "\n",
    "detach_dir ='C:/Users/Erika/PINET/Lib/Inbox'\n",
    "\n",
    "\n",
    "userName = 'acctest.erika@gmail.com'\n",
    "passwd = getpass.getpass('Enter your password:')\n",
    "\n",
    "try:\n",
    "    imapSession = imaplib.IMAP4_SSL('imap.gmail.com', 993)\n",
    "    typ, accountDetails = imapSession.login(userName, passwd)\n",
    "    if typ != 'OK':\n",
    "        print( 'Not able to sign in!')\n",
    "        raise\n",
    "    \n",
    "    imapSession.select('Inbox')\n",
    "    typ, data = imapSession.search(None, 'ALL')\n",
    "    if typ != 'OK':\n",
    "        print( 'Error searching Inbox.')\n",
    "        raise\n",
    "    \n",
    "    # Iterating over all emails\n",
    "    for msgId in data[0].split():\n",
    "        typ, messageParts = imapSession.fetch(msgId, '(RFC822)')\n",
    "        if typ != 'OK':\n",
    "            print( 'Error fetching mail.')\n",
    "            raise\n",
    "\n",
    "        emailBody = messageParts[0][1]\n",
    "        mail = email.message_from_bytes(emailBody)\n",
    "        \n",
    "        for part in mail.walk():\n",
    "            if part.get_content_maintype() == 'multipart':\n",
    "               \n",
    "                continue\n",
    "            if part.get('Content-Disposition') is None:\n",
    "                \n",
    "                continue\n",
    "                \n",
    "            fileName = part.get_filename()\n",
    "            counter = 1\n",
    "\n",
    "            if bool(fileName):\n",
    "                filePath = os.path.join(detach_dir, fileName)\n",
    "                if not os.path.isfile(filePath) :\n",
    "                    print(fileName)\n",
    "                    fp = open(filePath, 'wb')\n",
    "                    fp.write(part.get_payload(decode=True))\n",
    "                    fp.close()\n",
    "    imapSession.close()\n",
    "    imapSession.logout()\n",
    "except :\n",
    "    print( 'Not able to download all attachments.')\n",
    "    time.sleep(0.1)"
   ]
  },
  {
   "cell_type": "markdown",
   "metadata": {},
   "source": [
    "# Merge many files into one single file"
   ]
  },
  {
   "cell_type": "code",
   "execution_count": 18,
   "metadata": {},
   "outputs": [],
   "source": [
    "import glob\n",
    "# Merge many files into one single file\n",
    "all_data = pd.DataFrame()\n",
    "for i in glob.glob(\"Lib/Inbox/*.xlsx\"):\n",
    "    data = pd.read_excel(i)\n",
    "    all_data = all_data.append(data,ignore_index=True)\n",
    "\n",
    "writer = pd.ExcelWriter('Lib/Absensi_all.xlsx')\n",
    "all_data.to_excel(writer,'sheet1',index=False)\n",
    "writer.save()  "
   ]
  },
  {
   "cell_type": "code",
   "execution_count": 31,
   "metadata": {},
   "outputs": [
    {
     "name": "stdout",
     "output_type": "stream",
     "text": [
      "Inbox\n"
     ]
    }
   ],
   "source": [
    "from win32com.client import Dispatch\n",
    "\n",
    "outlook = Dispatch(\"Outlook.Application\").GetNamespace(\"MAPI\")\n",
    "root_folder = outlook.Folders.Item(1).Folders['Inbox']. # \"6\" refers to the index of a folder - in this case,\n",
    "print(root_folder)"
   ]
  },
  {
   "cell_type": "code",
   "execution_count": 22,
   "metadata": {},
   "outputs": [
    {
     "ename": "AttributeError",
     "evalue": "'NoneType' object has no attribute 'body'",
     "output_type": "error",
     "traceback": [
      "\u001b[1;31m---------------------------------------------------------------------------\u001b[0m",
      "\u001b[1;31mAttributeError\u001b[0m                            Traceback (most recent call last)",
      "\u001b[1;32m<ipython-input-22-ac30f87e8626>\u001b[0m in \u001b[0;36m<module>\u001b[1;34m\u001b[0m\n\u001b[0;32m      7\u001b[0m \u001b[0mmessages\u001b[0m \u001b[1;33m=\u001b[0m \u001b[0minbox\u001b[0m\u001b[1;33m.\u001b[0m\u001b[0mItems\u001b[0m\u001b[1;33m\u001b[0m\u001b[1;33m\u001b[0m\u001b[0m\n\u001b[0;32m      8\u001b[0m \u001b[0mmessage\u001b[0m \u001b[1;33m=\u001b[0m \u001b[0mmessages\u001b[0m\u001b[1;33m.\u001b[0m\u001b[0mGetLast\u001b[0m\u001b[1;33m(\u001b[0m\u001b[1;33m)\u001b[0m\u001b[1;33m\u001b[0m\u001b[1;33m\u001b[0m\u001b[0m\n\u001b[1;32m----> 9\u001b[1;33m \u001b[0mbody_content\u001b[0m \u001b[1;33m=\u001b[0m \u001b[0mmessage\u001b[0m\u001b[1;33m.\u001b[0m\u001b[0mbody\u001b[0m\u001b[1;33m\u001b[0m\u001b[1;33m\u001b[0m\u001b[0m\n\u001b[0m\u001b[0;32m     10\u001b[0m \u001b[0mprint\u001b[0m\u001b[1;33m(\u001b[0m \u001b[0mbody_content\u001b[0m\u001b[1;33m)\u001b[0m\u001b[1;33m\u001b[0m\u001b[1;33m\u001b[0m\u001b[0m\n",
      "\u001b[1;31mAttributeError\u001b[0m: 'NoneType' object has no attribute 'body'"
     ]
    }
   ],
   "source": [
    "from win32com.client import Dispatch\n",
    "\n",
    "outlook = Dispatch(\"Outlook.Application\").GetNamespace(\"MAPI\")\n",
    "inbox = outlook.Folders.Item(1) # \"6\" refers to the index of a folder - in this case,\n",
    "                                    # the inbox. You can change that number to reference\n",
    "                                    # any other folder\n",
    "messages = inbox.Items\n",
    "message = messages.GetLast()\n",
    "body_content = message.body\n",
    "print( body_content)"
   ]
  },
  {
   "cell_type": "markdown",
   "metadata": {},
   "source": [
    "# -----------------------------------------------------------------------------------------------------------"
   ]
  },
  {
   "cell_type": "code",
   "execution_count": 4,
   "metadata": {},
   "outputs": [
    {
     "ename": "AttributeError",
     "evalue": "'NoneType' object has no attribute 'Attachments'",
     "output_type": "error",
     "traceback": [
      "\u001b[1;31m---------------------------------------------------------------------------\u001b[0m",
      "\u001b[1;31mAttributeError\u001b[0m                            Traceback (most recent call last)",
      "\u001b[1;32m<ipython-input-4-67615c97a962>\u001b[0m in \u001b[0;36m<module>\u001b[1;34m\u001b[0m\n\u001b[0;32m      8\u001b[0m \u001b[1;33m\u001b[0m\u001b[0m\n\u001b[0;32m      9\u001b[0m \u001b[1;32mwhile\u001b[0m \u001b[1;32mTrue\u001b[0m\u001b[1;33m:\u001b[0m\u001b[1;33m\u001b[0m\u001b[1;33m\u001b[0m\u001b[0m\n\u001b[1;32m---> 10\u001b[1;33m     \u001b[0msubFolderItemAttachments\u001b[0m \u001b[1;33m=\u001b[0m \u001b[0mmessage\u001b[0m\u001b[1;33m.\u001b[0m\u001b[0mAttachments\u001b[0m\u001b[1;33m\u001b[0m\u001b[1;33m\u001b[0m\u001b[0m\n\u001b[0m\u001b[0;32m     11\u001b[0m     \u001b[0mnbrOfAttachmentInMessage\u001b[0m \u001b[1;33m=\u001b[0m \u001b[0msubFolderItemAttachments\u001b[0m\u001b[1;33m.\u001b[0m\u001b[0mCount\u001b[0m\u001b[1;33m\u001b[0m\u001b[1;33m\u001b[0m\u001b[0m\n\u001b[0;32m     12\u001b[0m     \u001b[0mx\u001b[0m \u001b[1;33m=\u001b[0m \u001b[1;36m1\u001b[0m\u001b[1;33m\u001b[0m\u001b[1;33m\u001b[0m\u001b[0m\n",
      "\u001b[1;31mAttributeError\u001b[0m: 'NoneType' object has no attribute 'Attachments'"
     ]
    }
   ],
   "source": [
    "import win32com.client\n",
    "\n",
    "outlook = win32com.client.Dispatch(\"Outlook.Application\").GetNamespace(\"MAPI\") #Opens Microsoft Outlook\n",
    "folder = outlook.Folders[3]  #N4 Invocie folder\n",
    "subFolder = folder.Folders[5]  #N4 Invoice subfolder\n",
    "subFolderMessages = subFolder.Items  #Invoice items object\n",
    "message = subFolderMessages.GetFirst() \n",
    "\n",
    "while True:\n",
    "    subFolderItemAttachments = message.Attachments\n",
    "    nbrOfAttachmentInMessage = subFolderItemAttachments.Count\n",
    "    x = 1\n",
    "    while x <= nbrOfAttachmentInMessage:\n",
    "        attachment = subFolderItemAttachments.item(x)\n",
    "        #Saves attachment to location\n",
    "        attachment.SaveAsFile('C:\\Users\\Erika/PINET/Lib/Inbox' + '\\\\'+ str(attachment)) \n",
    "        break    \n",
    "    message = subFolderMessages.GetNext() "
   ]
  },
  {
   "cell_type": "code",
   "execution_count": 17,
   "metadata": {},
   "outputs": [
    {
     "name": "stdout",
     "output_type": "stream",
     "text": [
      "Not able to download all attachments.\n"
     ]
    }
   ],
   "source": [
    "\n",
    "import win32com.client\n",
    "\n",
    "\n",
    "outlook = win32com.client.Dispatch(\"Outlook.Application\")\n",
    "mapi = outlook.GetNamespace(\"MAPI\")\n",
    "\n",
    "your_folder = mapi.Folders['tri.lestari@prima-integrasi.co.id'].Folders['Inbox']#.Folders['Unread']\n",
    "for message in your_folder.Items:\n",
    "    print(message.Subject)"
   ]
  },
  {
   "cell_type": "code",
   "execution_count": null,
   "metadata": {},
   "outputs": [],
   "source": []
  }
 ],
 "metadata": {
  "kernelspec": {
   "display_name": "Python 3",
   "language": "python",
   "name": "python3"
  },
  "language_info": {
   "codemirror_mode": {
    "name": "ipython",
    "version": 3
   },
   "file_extension": ".py",
   "mimetype": "text/x-python",
   "name": "python",
   "nbconvert_exporter": "python",
   "pygments_lexer": "ipython3",
   "version": "3.7.3"
  }
 },
 "nbformat": 4,
 "nbformat_minor": 2
}
