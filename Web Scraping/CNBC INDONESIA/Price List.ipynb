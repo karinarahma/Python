{
 "cells": [
  {
   "cell_type": "markdown",
   "metadata": {},
   "source": [
    "DONE:\n",
    "=============\n",
    "\n",
    "1. Extract table from web\n",
    "    ('https://www.cnbcindonesia.com/investment/20200612092657-21-164835/harga-emas-antam-melorot-jadi-rp-828120-gram-beli-gak-nih')\n",
    "    \n",
    "2. Get all price in Rupiah in a list\n",
    "\n",
    "3. Turn the list into a dataframe anda change the label into datetime of today \"dd-mm-yyyy\"\n",
    "\n",
    "4. Write the dataframe into Microsoft Word\n",
    "\n",
    "5. Update an existing document by add more columns\n",
    "\n",
    "------------------------------------------------------------------------------------------------------------------\n"
   ]
  },
  {
   "cell_type": "code",
   "execution_count": 2,
   "metadata": {},
   "outputs": [],
   "source": [
    "import pandas as pd\n",
    "import docx\n",
    "from docx import Document"
   ]
  },
  {
   "cell_type": "code",
   "execution_count": 3,
   "metadata": {},
   "outputs": [
    {
     "data": {
      "text/plain": [
       "bytes"
      ]
     },
     "execution_count": 3,
     "metadata": {},
     "output_type": "execute_result"
    }
   ],
   "source": [
    "import scrapy\n",
    "from scrapy import Selector\n",
    "import requests\n",
    "\n",
    "url = 'https://www.cnbcindonesia.com/investment/20200612092657-21-164835/harga-emas-antam-melorot-jadi-rp-828120-gram-beli-gak-nih'\n",
    "html = requests.get(url).content\n",
    "type(html)"
   ]
  },
  {
   "cell_type": "code",
   "execution_count": 52,
   "metadata": {},
   "outputs": [
    {
     "data": {
      "text/plain": [
       "scrapy.selector.unified.Selector"
      ]
     },
     "execution_count": 52,
     "metadata": {},
     "output_type": "execute_result"
    }
   ],
   "source": [
    "sel = Selector(text = html)\n",
    "type(sel)"
   ]
  },
  {
   "cell_type": "code",
   "execution_count": 53,
   "metadata": {},
   "outputs": [
    {
     "data": {
      "text/plain": [
       "['<p><strong><span>Jakarta, </span></strong><strong><span>CNBC</span></strong><strong><span> Indonesia -</span></strong><span> </span><span>H</span><span>arga emas logam mulia acuan yang diproduksi PT Aneka Tambang Tbk (Antam) hari</span><span> <span>Jumat</span></span><span> ini (</span><span>12</span><span>/</span><span>6</span><span>/2020) </span><span>turun 0,84</span><span>% </span><span>atau sebesar Rp 7.000 menjadi </span><span>Rp 8</span><span>28.12</span><span>0/gram dari perdagangan </span><span>Kamis</span><span> kemarin</span><span> di level Rp 835.120/gram</span><span>.</span></p>',\n",
       " '<p><span>Sebelumnya pada perdagangan </span><span>Kamis </span><span>kemarin, harga emas Antam </span><span>naik 1,46% atau Rp 12.000 </span><span>dari posisi harga </span><span>Rabu</span><span> yakni Rp 8</span><span>23.12</span><span>0/gram.</span><span> <span></span></span></p>',\n",
       " '<p><span>Berdasarkan pencatatan data harga Logam Mulia di gerai Jakarta Gedung Antam di situs logammulia milik Antam hari ini, harga tiap gram emas Antam ukuran 100 gram </span><span>turun 0,84% berada</span><span> di </span><span>Rp 82,812 juta dari harga kemarin </span><span>Rp 8</span><span>3,512</span><span> juta per batang.</span></p>',\n",
       " '<p><span>Emas Antam kepingan 100 gram lumrah dijadikan acuan transaksi emas secara umum, tidak hanya emas Antam. Harga emas Antam di gerai penjualan lain bisa berbeda.</span></p>',\n",
       " '<p><span>Adapun khusus harga 1 gram emas Antam hari </span><span>Jumat</span><span> ini (</span><span>12</span><span>/</span><span>6</span><span>/2020) </span><span>turun Rp 7.000</span><span> </span><span>menjadi</span><span> Rp </span><span>886</span><span>.000/gram setelah </span><span>naik Rp 12.000 ke </span><span>Rp </span><span>893</span><span>.000/gram pada hari </span><span>Kamis</span><span> kemarin.</span></p>',\n",
       " '<p></p>',\n",
       " '<p></p>',\n",
       " '<p><span>Di sisi lain, harga beli kembali (<em>buyback</em>) emas Antam hari ini juga </span><span>turun 0,89% atau Rp 7.000</span><span> ditetapkan pada Rp </span><span>777</span><span>.000/gram</span><span>,</span><span> dari posisi kemarin</span><span> Rp 784.000/gram</span><span>. Harga itu menunjukkan harga beli yang harus dibayar Antam jika pemilik batang emas bersertifikat ingin menjual kembali investasi tersebut.</span></p>',\n",
       " '<p>Namun jika membandingkan dengan harga emas yang sempat mencapai rekor Rp 895.000/gram yang dicapai pada Jumat 3 April 2020, maka harga emas Antam\\xa0hari ini sudah jatuh Rp 66.880. Ini adalah harga emas acuan 100 gram. Sementara itu, pada 3 April tersebut, khusus harga 1 gram emas Antam juga naik tembus Rp 944.000/gram.</p>',\n",
       " '<p>Saat itu harga emas Antam tembus rekor seiring dengan harga emas dunia yang kembali naik ke atas level psikologis US$ 1.600 per troy ons pada 3 April tersebut.</p>',\n",
       " '<p></p>',\n",
       " '<p><iframe src=\"https://datawrapper.dwcdn.net/Bt0kd/1/\" id=\"datawrapper-chart-Bt0kd\" height=\"661\" frameborder=\"0\" scrolling=\"no\" title=\"Harga Emas Antam 12 Juni 2020\" aria-label=\"chart\" style=\"width: 0; min-width: 100% !important; border: none;\"></iframe><script>// <![CDATA[!function(){\"use strict\";window.addEventListener(\"message\",(function(a){if(void 0!==a.data[\"datawrapper-height\"])for(var e in a.data[\"datawrapper-height\"]){var t=document.getElementById(\"datawrapper-chart-\"+e)||document.querySelector(\"iframe[src*=\\'\"+e+\"\\']\");t&&(t.style.height=a.data[\"datawrapper-height\"][e]+\"px\")}}))}();// ]]></script></p>',\n",
       " '<p>Penurunan harga emas Antam\\xa0hari ini seiring dengan turunnya harga emas dunia di pasar spot pada penutupan perdagangan hari Kamis kemarin (Jumat pagi waktu Indonesia) yang turun sebesar US$ 9,09 atau 0,53% menjadi US$ 1.727,15/troy ons setelah naik US$ 21,92 atau 1,28% menjadi US$ 1.736,24/troy ons sebelumnya, melansir dari Refinitiv.</p>',\n",
       " '<p><span>Sementara harga emas berjangka AS untuk pengiriman bulan Agustus justru naik US$ 19,10 atau sekitar 1,1% pada US$ 1.739,80/troy ons setelah turun US$ 1,20 atau 0,1% ke US$ 1.720,70/troy ons sebelumnya, melansir dari RTTNews.</span></p>',\n",
       " '<p><span>Penurunan harga emas dunia kemarin menyusul aksi ambil untung (<em>profit taking</em>) setelah reli 3 hari berturut.<span> </span></span></p>',\n",
       " '<p></p>',\n",
       " '<p><strong><span>TIM RISET </span></strong><strong><span>CNBC</span></strong><strong><span> INDONESIA</span></strong><span></span></p>',\n",
       " '<p></p>']"
      ]
     },
     "execution_count": 53,
     "metadata": {},
     "output_type": "execute_result"
    }
   ],
   "source": [
    "small = sel.xpath('//*[@class=\"detail_text\"]/p')\n",
    "list = small.extract()\n",
    "list"
   ]
  },
  {
   "cell_type": "code",
   "execution_count": 54,
   "metadata": {},
   "outputs": [
    {
     "data": {
      "text/plain": [
       "['Jakarta, CNBC Indonesia - Harga emas logam mulia acuan yang diproduksi PT Aneka Tambang Tbk (Antam) hari Jumat ini (12/6/2020) turun 0,84% atau sebesar Rp 7.000 menjadi Rp 828.120/gram dari perdagangan Kamis kemarin di level Rp 835.120/gram.',\n",
       " 'Sebelumnya pada perdagangan Kamis kemarin, harga emas Antam naik 1,46% atau Rp 12.000 dari posisi harga Rabu yakni Rp 823.120/gram. ',\n",
       " 'Berdasarkan pencatatan data harga Logam Mulia di gerai Jakarta Gedung Antam di situs logammulia milik Antam hari ini, harga tiap gram emas Antam ukuran 100 gram turun 0,84% berada di Rp 82,812 juta dari harga kemarin Rp 83,512 juta per batang.',\n",
       " 'Emas Antam kepingan 100 gram lumrah dijadikan acuan transaksi emas secara umum, tidak hanya emas Antam. Harga emas Antam di gerai penjualan lain bisa berbeda.',\n",
       " 'Adapun khusus harga 1 gram emas Antam hari Jumat ini (12/6/2020) turun Rp 7.000 menjadi Rp 886.000/gram setelah naik Rp 12.000 ke Rp 893.000/gram pada hari Kamis kemarin.',\n",
       " '',\n",
       " '',\n",
       " 'Di sisi lain, harga beli kembali (<em>buyback</em>) emas Antam hari ini juga turun 0,89% atau Rp 7.000 ditetapkan pada Rp 777.000/gram, dari posisi kemarin Rp 784.000/gram. Harga itu menunjukkan harga beli yang harus dibayar Antam jika pemilik batang emas bersertifikat ingin menjual kembali investasi tersebut.',\n",
       " 'Namun jika membandingkan dengan harga emas yang sempat mencapai rekor Rp 895.000/gram yang dicapai pada Jumat 3 April 2020, maka harga emas Antam\\xa0hari ini sudah jatuh Rp 66.880. Ini adalah harga emas acuan 100 gram. Sementara itu, pada 3 April tersebut, khusus harga 1 gram emas Antam juga naik tembus Rp 944.000/gram.',\n",
       " 'Saat itu harga emas Antam tembus rekor seiring dengan harga emas dunia yang kembali naik ke atas level psikologis US$ 1.600 per troy ons pada 3 April tersebut.',\n",
       " '',\n",
       " '<iframe src=\"https://datawrapper.dwcdn.net/Bt0kd/1/\" id=\"datawrapper-chart-Bt0kd\" height=\"661\" frameborder=\"0\" scrolling=\"no\" title=\"Harga Emas Antam 12 Juni 2020\" aria-label=\"chart\" style=\"width: 0; min-width: 100% !important; border: none;\"></iframe><script>// <![CDATA[!function(){\"use strict\";window.addEventListener(\"message\",(function(a){if(void 0!==a.data[\"datawrapper-height\"])for(var e in a.data[\"datawrapper-height\"]){var t=document.getElementById(\"datawrapper-chart-\"+e)||document.querySelector(\"iframe[src*=\\'\"+e+\"\\']\");t&&(t.style.height=a.data[\"datawrapper-height\"][e]+\"px\")}}))}();// ]]></script>',\n",
       " 'Penurunan harga emas Antam\\xa0hari ini seiring dengan turunnya harga emas dunia di pasar spot pada penutupan perdagangan hari Kamis kemarin (Jumat pagi waktu Indonesia) yang turun sebesar US$ 9,09 atau 0,53% menjadi US$ 1.727,15/troy ons setelah naik US$ 21,92 atau 1,28% menjadi US$ 1.736,24/troy ons sebelumnya, melansir dari Refinitiv.',\n",
       " 'Sementara harga emas berjangka AS untuk pengiriman bulan Agustus justru naik US$ 19,10 atau sekitar 1,1% pada US$ 1.739,80/troy ons setelah turun US$ 1,20 atau 0,1% ke US$ 1.720,70/troy ons sebelumnya, melansir dari RTTNews.',\n",
       " 'Penurunan harga emas dunia kemarin menyusul aksi ambil untung (<em>profit taking</em>) setelah reli 3 hari berturut. ',\n",
       " '',\n",
       " 'TIM RISET CNBC INDONESIA',\n",
       " '']"
      ]
     },
     "execution_count": 54,
     "metadata": {},
     "output_type": "execute_result"
    }
   ],
   "source": [
    "import re\n",
    "\n",
    "pattern = re.compile(r\"|<p>|</p>|<strong>|</strong>|<span>|</span>|\\b\", re.I)\n",
    "phrases = list\n",
    "listnew = [pattern.sub(\"\", phrase) for phrase in phrases]\n",
    "listnew"
   ]
  },
  {
   "cell_type": "code",
   "execution_count": 55,
   "metadata": {},
   "outputs": [
    {
     "data": {
      "text/plain": [
       "['Rp 828.120',\n",
       " 'Rp 835.120',\n",
       " 'Rp 823.120',\n",
       " 'Rp 886.000',\n",
       " 'Rp 893.000',\n",
       " 'Rp 777.000',\n",
       " 'Rp 784.000',\n",
       " 'Rp 895.000',\n",
       " 'Rp 944.000']"
      ]
     },
     "execution_count": 55,
     "metadata": {},
     "output_type": "execute_result"
    }
   ],
   "source": [
    "string = str(listnew)\n",
    "string\n",
    "\n",
    "price_list = re.findall(\"Rp\\s\\d\\d\\d.\\d+\", string )\n",
    "price_list"
   ]
  },
  {
   "cell_type": "code",
   "execution_count": 56,
   "metadata": {},
   "outputs": [
    {
     "data": {
      "text/html": [
       "<div>\n",
       "<style scoped>\n",
       "    .dataframe tbody tr th:only-of-type {\n",
       "        vertical-align: middle;\n",
       "    }\n",
       "\n",
       "    .dataframe tbody tr th {\n",
       "        vertical-align: top;\n",
       "    }\n",
       "\n",
       "    .dataframe thead th {\n",
       "        text-align: right;\n",
       "    }\n",
       "</style>\n",
       "<table border=\"1\" class=\"dataframe\">\n",
       "  <thead>\n",
       "    <tr style=\"text-align: right;\">\n",
       "      <th></th>\n",
       "      <th>0</th>\n",
       "      <th>22-06-2020</th>\n",
       "    </tr>\n",
       "  </thead>\n",
       "  <tbody>\n",
       "    <tr>\n",
       "      <th>0</th>\n",
       "      <td>Rp 828.120</td>\n",
       "      <td>Rp 828.120</td>\n",
       "    </tr>\n",
       "    <tr>\n",
       "      <th>1</th>\n",
       "      <td>Rp 835.120</td>\n",
       "      <td>Rp 835.120</td>\n",
       "    </tr>\n",
       "    <tr>\n",
       "      <th>2</th>\n",
       "      <td>Rp 823.120</td>\n",
       "      <td>Rp 823.120</td>\n",
       "    </tr>\n",
       "    <tr>\n",
       "      <th>3</th>\n",
       "      <td>Rp 886.000</td>\n",
       "      <td>Rp 886.000</td>\n",
       "    </tr>\n",
       "    <tr>\n",
       "      <th>4</th>\n",
       "      <td>Rp 893.000</td>\n",
       "      <td>Rp 893.000</td>\n",
       "    </tr>\n",
       "    <tr>\n",
       "      <th>5</th>\n",
       "      <td>Rp 777.000</td>\n",
       "      <td>Rp 777.000</td>\n",
       "    </tr>\n",
       "    <tr>\n",
       "      <th>6</th>\n",
       "      <td>Rp 784.000</td>\n",
       "      <td>Rp 784.000</td>\n",
       "    </tr>\n",
       "    <tr>\n",
       "      <th>7</th>\n",
       "      <td>Rp 895.000</td>\n",
       "      <td>Rp 895.000</td>\n",
       "    </tr>\n",
       "    <tr>\n",
       "      <th>8</th>\n",
       "      <td>Rp 944.000</td>\n",
       "      <td>Rp 944.000</td>\n",
       "    </tr>\n",
       "  </tbody>\n",
       "</table>\n",
       "</div>"
      ],
      "text/plain": [
       "            0  22-06-2020\n",
       "0  Rp 828.120  Rp 828.120\n",
       "1  Rp 835.120  Rp 835.120\n",
       "2  Rp 823.120  Rp 823.120\n",
       "3  Rp 886.000  Rp 886.000\n",
       "4  Rp 893.000  Rp 893.000\n",
       "5  Rp 777.000  Rp 777.000\n",
       "6  Rp 784.000  Rp 784.000\n",
       "7  Rp 895.000  Rp 895.000\n",
       "8  Rp 944.000  Rp 944.000"
      ]
     },
     "execution_count": 56,
     "metadata": {},
     "output_type": "execute_result"
    }
   ],
   "source": [
    "df = pd.DataFrame(price_list)\n",
    "df[pd.to_datetime('today').strftime(\"%d-%m-%Y\")] = df[0]\n",
    "df"
   ]
  },
  {
   "cell_type": "code",
   "execution_count": 50,
   "metadata": {},
   "outputs": [
    {
     "data": {
      "text/html": [
       "<div>\n",
       "<style scoped>\n",
       "    .dataframe tbody tr th:only-of-type {\n",
       "        vertical-align: middle;\n",
       "    }\n",
       "\n",
       "    .dataframe tbody tr th {\n",
       "        vertical-align: top;\n",
       "    }\n",
       "\n",
       "    .dataframe thead th {\n",
       "        text-align: right;\n",
       "    }\n",
       "</style>\n",
       "<table border=\"1\" class=\"dataframe\">\n",
       "  <thead>\n",
       "    <tr style=\"text-align: right;\">\n",
       "      <th></th>\n",
       "      <th>21-06-2020</th>\n",
       "    </tr>\n",
       "  </thead>\n",
       "  <tbody>\n",
       "    <tr>\n",
       "      <th>0</th>\n",
       "      <td>Rp 828.120</td>\n",
       "    </tr>\n",
       "    <tr>\n",
       "      <th>1</th>\n",
       "      <td>Rp 835.120</td>\n",
       "    </tr>\n",
       "    <tr>\n",
       "      <th>2</th>\n",
       "      <td>Rp 823.120</td>\n",
       "    </tr>\n",
       "    <tr>\n",
       "      <th>3</th>\n",
       "      <td>Rp 886.000</td>\n",
       "    </tr>\n",
       "    <tr>\n",
       "      <th>4</th>\n",
       "      <td>Rp 893.000</td>\n",
       "    </tr>\n",
       "    <tr>\n",
       "      <th>5</th>\n",
       "      <td>Rp 777.000</td>\n",
       "    </tr>\n",
       "    <tr>\n",
       "      <th>6</th>\n",
       "      <td>Rp 784.000</td>\n",
       "    </tr>\n",
       "    <tr>\n",
       "      <th>7</th>\n",
       "      <td>Rp 895.000</td>\n",
       "    </tr>\n",
       "    <tr>\n",
       "      <th>8</th>\n",
       "      <td>Rp 944.000</td>\n",
       "    </tr>\n",
       "  </tbody>\n",
       "</table>\n",
       "</div>"
      ],
      "text/plain": [
       "   21-06-2020\n",
       "0  Rp 828.120\n",
       "1  Rp 835.120\n",
       "2  Rp 823.120\n",
       "3  Rp 886.000\n",
       "4  Rp 893.000\n",
       "5  Rp 777.000\n",
       "6  Rp 784.000\n",
       "7  Rp 895.000\n",
       "8  Rp 944.000"
      ]
     },
     "execution_count": 50,
     "metadata": {},
     "output_type": "execute_result"
    }
   ],
   "source": [
    "dfnew21 = dfnew\n",
    "dfnew21"
   ]
  },
  {
   "cell_type": "code",
   "execution_count": 57,
   "metadata": {},
   "outputs": [
    {
     "data": {
      "text/html": [
       "<div>\n",
       "<style scoped>\n",
       "    .dataframe tbody tr th:only-of-type {\n",
       "        vertical-align: middle;\n",
       "    }\n",
       "\n",
       "    .dataframe tbody tr th {\n",
       "        vertical-align: top;\n",
       "    }\n",
       "\n",
       "    .dataframe thead th {\n",
       "        text-align: right;\n",
       "    }\n",
       "</style>\n",
       "<table border=\"1\" class=\"dataframe\">\n",
       "  <thead>\n",
       "    <tr style=\"text-align: right;\">\n",
       "      <th></th>\n",
       "      <th>22-06-2020</th>\n",
       "    </tr>\n",
       "  </thead>\n",
       "  <tbody>\n",
       "    <tr>\n",
       "      <th>0</th>\n",
       "      <td>Rp 828.120</td>\n",
       "    </tr>\n",
       "    <tr>\n",
       "      <th>1</th>\n",
       "      <td>Rp 835.120</td>\n",
       "    </tr>\n",
       "    <tr>\n",
       "      <th>2</th>\n",
       "      <td>Rp 823.120</td>\n",
       "    </tr>\n",
       "    <tr>\n",
       "      <th>3</th>\n",
       "      <td>Rp 886.000</td>\n",
       "    </tr>\n",
       "    <tr>\n",
       "      <th>4</th>\n",
       "      <td>Rp 893.000</td>\n",
       "    </tr>\n",
       "    <tr>\n",
       "      <th>5</th>\n",
       "      <td>Rp 777.000</td>\n",
       "    </tr>\n",
       "    <tr>\n",
       "      <th>6</th>\n",
       "      <td>Rp 784.000</td>\n",
       "    </tr>\n",
       "    <tr>\n",
       "      <th>7</th>\n",
       "      <td>Rp 895.000</td>\n",
       "    </tr>\n",
       "    <tr>\n",
       "      <th>8</th>\n",
       "      <td>Rp 944.000</td>\n",
       "    </tr>\n",
       "  </tbody>\n",
       "</table>\n",
       "</div>"
      ],
      "text/plain": [
       "   22-06-2020\n",
       "0  Rp 828.120\n",
       "1  Rp 835.120\n",
       "2  Rp 823.120\n",
       "3  Rp 886.000\n",
       "4  Rp 893.000\n",
       "5  Rp 777.000\n",
       "6  Rp 784.000\n",
       "7  Rp 895.000\n",
       "8  Rp 944.000"
      ]
     },
     "execution_count": 57,
     "metadata": {},
     "output_type": "execute_result"
    }
   ],
   "source": [
    "dfnew22 = pd.DataFrame(df[pd.to_datetime('today').strftime(\"%d-%m-%Y\")] )\n",
    "dfnew22"
   ]
  },
  {
   "cell_type": "code",
   "execution_count": null,
   "metadata": {},
   "outputs": [],
   "source": [
    "doc = docx.Document()\n",
    "\n",
    "#heading\n",
    "doc.add_heading('Price Of Gold', level=2)\n",
    "doc.add_paragraph('These are the list of the price of golds')#, style='Intense Quote')\n",
    "\n",
    "table = doc.add_table(dfnew.shape[0]+1, dfnew.shape[1])\n",
    "\n",
    "# header table\n",
    "for j in range(dfnew.shape[-1]):\n",
    "    table.cell(0,j).text = dfnew.columns[j]\n",
    "    \n",
    "for i in range(dfnew.shape[0]):\n",
    "    for j in range(dfnew.shape[-1]):\n",
    "        table.cell(i+1,j).text = str(dfnew.values[i,j])\n",
    "\n",
    "table.style = 'DarkList'\n",
    "doc.save('Price Of Gold.docx')\n",
    "print('File Saved!!')"
   ]
  },
  {
   "cell_type": "markdown",
   "metadata": {},
   "source": [
    "## Update an existing document\n",
    "\n",
    "1. Add New Column with date of today as the label name\n",
    "2. "
   ]
  },
  {
   "cell_type": "markdown",
   "metadata": {},
   "source": [
    "from docx.shared import Cm, Inches\n",
    "from docx.enum.table import WD_TABLE_DIRECTION\n",
    "\n",
    "#Read Existing document\n",
    "doc = docx.Document()\n",
    "doc = Document('Price Of Gold.docx')\n",
    "\n",
    "#List the table\n",
    "tbl = doc.tables\n",
    "\n",
    "#Add A New Column\n",
    "newcolumn = tbl[0]\n",
    "newcolumn.table_direction = WD_TABLE_DIRECTION.LTR\n",
    "newcolumn.add_column(Inches(1.0))\n",
    "\n",
    "#Change the name of new column with date of today\n",
    "newcolumn.cell(0,1).text = str(pd.to_datetime('today').strftime(\"%d-%m-%Y\"))\n",
    "\n",
    "newcolumn.style = 'Table Grid'\n",
    "doc.save('NEW Price Of Gold.docx')\n",
    "print('File Saved!!')"
   ]
  },
  {
   "cell_type": "code",
   "execution_count": 123,
   "metadata": {},
   "outputs": [
    {
     "name": "stdout",
     "output_type": "stream",
     "text": [
      "File Saved!!\n"
     ]
    }
   ],
   "source": [
    "from docx.shared import Cm, Inches\n",
    "from docx.enum.table import WD_TABLE_DIRECTION\n",
    "\n",
    "#Read Existing document\n",
    "doc = docx.Document()\n",
    "doc = Document('Data Up to Date.docx')\n",
    "\n",
    "#List the table\n",
    "tbl = doc.tables\n",
    "\n",
    "#Add A New Column\n",
    "toc = tbl[0]\n",
    "toc.add_column(Inches(1.0))\n",
    "\n",
    "#header table\n",
    "for j in range(dfnew22.shape[-1]):\n",
    "    toc.cell(0,2).text = dfnew22.columns[j]\n",
    "    \n",
    "\n",
    "#table content\n",
    "for i in range(dfnew22.shape[0]):\n",
    "    #newcolumn.table_direction = WD_TABLE_DIRECTION.LTR \n",
    "    for j in range(dfnew22.shape[-1]):\n",
    "        toc.cell(i+1,2).text = str(dfnew22.values[i,j])\n",
    "\n",
    "toc.style = 'Medium Shading 1 Accent 6'\n",
    "doc.save('Price Of Gold 22.docx')\n",
    "print('File Saved!!')"
   ]
  }
 ],
 "metadata": {
  "kernelspec": {
   "display_name": "Python 3",
   "language": "python",
   "name": "python3"
  },
  "language_info": {
   "codemirror_mode": {
    "name": "ipython",
    "version": 3
   },
   "file_extension": ".py",
   "mimetype": "text/x-python",
   "name": "python",
   "nbconvert_exporter": "python",
   "pygments_lexer": "ipython3",
   "version": "3.7.3"
  }
 },
 "nbformat": 4,
 "nbformat_minor": 4
}
